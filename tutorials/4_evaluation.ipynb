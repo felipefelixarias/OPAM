{
 "cells": [
  {
   "cell_type": "code",
   "execution_count": null,
   "metadata": {},
   "outputs": [],
   "source": []
  }
 ],
 "metadata": {
  "kernelspec": {
   "display_name": "Python 3.6.15 ('opam')",
   "language": "python",
   "name": "python3"
  },
  "language_info": {
   "name": "python",
   "version": "3.6.15"
  },
  "orig_nbformat": 4,
  "vscode": {
   "interpreter": {
    "hash": "73a98fce877bcebe48ef32d2c1e0b661b61951079ff89e1b2cd46dc2f6077aad"
   }
  }
 },
 "nbformat": 4,
 "nbformat_minor": 2
}
