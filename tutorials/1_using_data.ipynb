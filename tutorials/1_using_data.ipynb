{
 "cells": [
  {
   "cell_type": "code",
   "execution_count": null,
   "metadata": {},
   "outputs": [
    {
     "ename": "",
     "evalue": "",
     "output_type": "error",
     "traceback": [
      "\u001b[1;31mRunning cells with 'Python 3.6.15 ('opam')' requires ipykernel package.\n",
      "\u001b[1;31mRun the following command to install 'ipykernel' into the Python environment. \n",
      "\u001b[1;31mCommand: 'conda install -n opam ipykernel --update-deps --force-reinstall'"
     ]
    }
   ],
   "source": [
    "import numpy as np\n",
    "from os import getcwd\n",
    "import logging\n",
    "\n",
    "from opam.environment.core  import Environment\n",
    "from opam.aggregation.core import Aggregator"
   ]
  },
  {
   "cell_type": "markdown",
   "metadata": {},
   "source": [
    "Given maps defined as images (.png) in /data/maps and the corresponding episode data (.json) in /data/episodes, load data into an aggregator. \n",
    "\n",
    "Note: The name of the map and episode data must be the same and the episode data must be a list of episodes, where each episode is a list of paths, and each path is a list of positions"
   ]
  },
  {
   "cell_type": "code",
   "execution_count": null,
   "metadata": {},
   "outputs": [
    {
     "ename": "",
     "evalue": "",
     "output_type": "error",
     "traceback": [
      "\u001b[1;31mRunning cells with 'Python 3.6.15 ('opam')' requires ipykernel package.\n",
      "\u001b[1;31mRun the following command to install 'ipykernel' into the Python environment. \n",
      "\u001b[1;31mCommand: 'conda install -n opam ipykernel --update-deps --force-reinstall'"
     ]
    }
   ],
   "source": [
    "map_path = getcwd() + '/data/maps/'\n",
    "Aggregator.load_maps(map_path, pix_per_meter=100)\n",
    "episode_path = getcwd() + '/data/episodes/'\n",
    "Aggregator.load_episodes(episode_path, 3)"
   ]
  }
 ],
 "metadata": {
  "kernelspec": {
   "display_name": "Python 3.6.15 ('opam')",
   "language": "python",
   "name": "python3"
  },
  "language_info": {
   "name": "python",
   "version": "3.6.15"
  },
  "orig_nbformat": 4,
  "vscode": {
   "interpreter": {
    "hash": "73a98fce877bcebe48ef32d2c1e0b661b61951079ff89e1b2cd46dc2f6077aad"
   }
  }
 },
 "nbformat": 4,
 "nbformat_minor": 2
}
